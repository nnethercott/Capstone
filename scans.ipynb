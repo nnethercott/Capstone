{
 "cells": [
  {
   "cell_type": "code",
   "execution_count": 1,
   "metadata": {},
   "outputs": [],
   "source": [
    "import numpy as np\n",
    "import os\n",
    "import util as u\n",
    "from MRI_layers_MK1 import *\n",
    "import matplotlib.pyplot as plt\n",
    "import pickle"
   ]
  },
  {
   "cell_type": "code",
   "execution_count": 2,
   "metadata": {},
   "outputs": [],
   "source": [
    "#base path to folder with scan data \n",
    "base = \"/Users/nathanielnethercott/Desktop/School/2021/Pickled_Sample/\"\n",
    "fpaths = [os.path.join(base,p) for p in os.listdir(base)]"
   ]
  },
  {
   "cell_type": "code",
   "execution_count": 3,
   "metadata": {},
   "outputs": [],
   "source": [
    "#test here represents data for first subject\n",
    "test = pickle.load(open(fpaths[0], 'rb'))"
   ]
  },
  {
   "cell_type": "code",
   "execution_count": 4,
   "metadata": {},
   "outputs": [
    {
     "data": {
      "text/plain": [
       "<matplotlib.image.AxesImage at 0x1121723d0>"
      ]
     },
     "execution_count": 4,
     "metadata": {},
     "output_type": "execute_result"
    },
    {
     "data": {
      "image/png": "[encoded data removed]",
      "text/plain": [
       "<Figure size 576x576 with 1 Axes>"
      ]
     },
     "metadata": {
      "needs_background": "light"
     },
     "output_type": "display_data"
    }
   ],
   "source": [
    "#split subject data into raw images and masks \n",
    "t1 = test[1]\n",
    "t2 = test[2]\n",
    "\n",
    "plt.figure(figsize=(8,8))\n",
    "plt.imshow(t2[:,:,56])"
   ]
  },
  {
   "cell_type": "code",
   "execution_count": 5,
   "metadata": {},
   "outputs": [],
   "source": [
    "#ignore this for the example\n",
    "\n",
    "#my versions of some functions \n",
    "def _find_layers(mask_data):\n",
    "    l = []\n",
    "    for i in range(mask_data.shape[-1]):\n",
    "        if np.mean(mask_data[:,:,i])>0.0:\n",
    "            l.append(i)\n",
    "    return l\n",
    "\n",
    "def _area(mask):\n",
    "    area = 0\n",
    "    for i in range(mask.shape[0]):\n",
    "        for j in range(mask.shape[1]):\n",
    "            if mask[i,j]!=0:\n",
    "                area+=1\n",
    "    return area \n",
    "\n",
    "def _com(mask, target = 1.0):\n",
    "    \"\"\"\n",
    "    ayo, not worth the effort rn to fill in a contour and average points\n",
    "    --- lets just average y and x of contour boundaries\n",
    "    \n",
    "    ideally should work with contours too\n",
    "    \"\"\"\n",
    "    indeces = []\n",
    "    for i in range(mask.shape[0]):\n",
    "        for j in range(mask.shape[1]):\n",
    "            if mask[i,j]==target:\n",
    "                indeces.append((i,j))\n",
    "                \n",
    "    _x = lambda pair: pair[0]\n",
    "    _y = lambda pair: pair[1]\n",
    "    \n",
    "    #for some reason sorting didn't work and i'm mad about that \n",
    "    xvals = [_x(p) for p in indeces]\n",
    "    yvals = [_y(p) for p in indeces]\n",
    "    \n",
    "    return (int(np.mean(xvals)), int(np.mean(yvals)))\n",
    "\n",
    "#_find_layers(t2)"
   ]
  },
  {
   "cell_type": "code",
   "execution_count": 6,
   "metadata": {},
   "outputs": [
    {
     "data": {
      "text/plain": [
       "[<matplotlib.lines.Line2D at 0x1122821c0>]"
      ]
     },
     "execution_count": 6,
     "metadata": {},
     "output_type": "execute_result"
    },
    {
     "data": {
      "image/png": "[encoded data removed]",
      "text/plain": [
       "<Figure size 432x288 with 1 Axes>"
      ]
     },
     "metadata": {
      "needs_background": "light"
     },
     "output_type": "display_data"
    }
   ],
   "source": [
    "#normalize \n",
    "m = t2[:,:,56]/255\n",
    "\n",
    "#find com and plot \n",
    "c = _com(m)\n",
    "plt.imshow(m)\n",
    "plt.plot(c[0], c[1], 'o', color = 'red')\n",
    "\n",
    "#okay its not mad accurate but its close non?\n",
    "#okay we have a ~semblance~ of where it shold be "
   ]
  },
  {
   "cell_type": "code",
   "execution_count": 7,
   "metadata": {},
   "outputs": [
    {
     "data": {
      "text/plain": [
       "<matplotlib.image.AxesImage at 0x11210d790>"
      ]
     },
     "execution_count": 7,
     "metadata": {},
     "output_type": "execute_result"
    },
    {
     "data": {
      "image/png": "[encoded data removed]",
      "text/plain": [
       "<Figure size 576x576 with 1 Axes>"
      ]
     },
     "metadata": {
      "needs_background": "light"
     },
     "output_type": "display_data"
    }
   ],
   "source": [
    "#try to get the segmentation functional going \n",
    "p = u.parabloid(m.shape, xrad = 0.35, yrad = 0.3, left=0.35, top = 0.2)\n",
    "\n",
    "plt.figure(figsize=(8,8))\n",
    "plt.contour(p, [0], colors=['red'])\n",
    "plt.imshow(m)"
   ]
  },
  {
   "cell_type": "code",
   "execution_count": 65,
   "metadata": {},
   "outputs": [],
   "source": [
    "def iteration(surface, image, dt=0.0001, alpha = 1, beta=1):\n",
    "    d = lambda x,y: (x**2 + y**2)**0.5\n",
    "\n",
    "    #absolutely do not forget to add this grid spacing in the function argument \n",
    "    sy, sx = np.gradient(surface, np.linspace(-1,1, surface.shape[0]), np.linspace(-1,1, surface.shape[1]))\n",
    "\n",
    "    #write logic for the time evolution of the curves \n",
    "    #surface curvature \n",
    "    K = u.mean_curvature(surface)\n",
    "\n",
    "    #now the evolution function:\n",
    "    F1 = K\n",
    "    F2 = (image-1.0)**2 - (image - np.zeros(image.shape))**2\n",
    "\n",
    "    surface = surface - (beta*F2+alpha*F1)*d(sx,sy)*dt\n",
    "\n",
    "    return surface"
   ]
  },
  {
   "cell_type": "code",
   "execution_count": 67,
   "metadata": {},
   "outputs": [
    {
     "data": {
      "text/plain": [
       "<matplotlib.image.AxesImage at 0x11365e190>"
      ]
     },
     "execution_count": 67,
     "metadata": {},
     "output_type": "execute_result"
    },
    {
     "data": {
      "image/png": "[encoded data removed]",
      "text/plain": [
       "<Figure size 576x576 with 1 Axes>"
      ]
     },
     "metadata": {
      "needs_background": "light"
     },
     "output_type": "display_data"
    }
   ],
   "source": [
    "g = p\n",
    "\n",
    "for i in range(1200):\n",
    "    g = iteration(g, m, dt = 0.001, beta=0.11, alpha=0.001)\n",
    "\n",
    "plt.figure(figsize=(8,8))\n",
    "plt.contour(g, [0], colors=['red'])\n",
    "plt.imshow(m)"
   ]
  },
  {
   "cell_type": "code",
   "execution_count": null,
   "metadata": {},
   "outputs": [],
   "source": [
    "\"\"\"\n",
    "Notes: \n",
    "WE ABSOLUTELY NEED THAT SPACING DEFINED IN GRADIENT COMPUTATION, JUST TRUST MAN \n",
    "\"\"\""
   ]
  },
  {
   "cell_type": "code",
   "execution_count": null,
   "metadata": {},
   "outputs": [],
   "source": []
  }
 ],
 "metadata": {
  "kernelspec": {
   "display_name": "Python 3",
   "language": "python",
   "name": "python3"
  },
  "language_info": {
   "codemirror_mode": {
    "name": "ipython",
    "version": 3
   },
   "file_extension": ".py",
   "mimetype": "text/x-python",
   "name": "python",
   "nbconvert_exporter": "python",
   "pygments_lexer": "ipython3",
   "version": "3.8.6"
  }
 },
 "nbformat": 4,
 "nbformat_minor": 4
}
